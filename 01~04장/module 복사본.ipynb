{
 "cells": [
  {
   "cell_type": "markdown",
   "id": "0211dd82-95fa-4264-b8ed-0fdb092ee9cc",
   "metadata": {},
   "source": [
    "# Module"
   ]
  },
  {
   "cell_type": "markdown",
   "id": "62ce4d9f-66b0-42df-a98b-e4ac17e2b6cd",
   "metadata": {},
   "source": [
    "모듈: 패키지 안에는 함수가 굉장히 많기 때문에 비슷한 함수끼리 묶어 몇 개의 모듈로 나눔"
   ]
  },
  {
   "cell_type": "markdown",
   "id": "613a8224-d92b-4097-a44c-1c0f24a9ffa3",
   "metadata": {},
   "source": [
    "머신러닝 모델 만들 때 사용하는 sklearn패키지 안에는 metrics, tree, model_selection 등 많은 모듈이 들어있음"
   ]
  },
  {
   "cell_type": "markdown",
   "id": "1bf0e004-b624-432d-ae51-a966d2243086",
   "metadata": {},
   "source": [
    "metrics 모듈의 accuracy_score()을 사용하기 위해서는 import sklearn.merics.accuracy_score()"
   ]
  },
  {
   "cell_type": "code",
   "execution_count": 3,
   "id": "202d2149-0756-4390-8032-ad8096c3d172",
   "metadata": {},
   "outputs": [],
   "source": [
    "from sklearn import metrics\n",
    "# from 패키지 import  모듈"
   ]
  },
  {
   "cell_type": "code",
   "execution_count": 5,
   "id": "0567e5c3-68ad-41ef-ab49-e3fe14e368a1",
   "metadata": {},
   "outputs": [],
   "source": [
    "#metrics.accuracy_score()"
   ]
  },
  {
   "cell_type": "code",
   "execution_count": 6,
   "id": "fa92d851-3423-4182-8711-7044553be22e",
   "metadata": {},
   "outputs": [],
   "source": [
    "from sklearn.metrics import accuracy_score\n",
    "# from 패키지.모듈 import 함수"
   ]
  },
  {
   "cell_type": "code",
   "execution_count": null,
   "id": "871394ae-540e-42c2-ad71-d9f96131871b",
   "metadata": {},
   "outputs": [],
   "source": []
  }
 ],
 "metadata": {
  "kernelspec": {
   "display_name": "Python 3 (ipykernel)",
   "language": "python",
   "name": "python3"
  },
  "language_info": {
   "codemirror_mode": {
    "name": "ipython",
    "version": 3
   },
   "file_extension": ".py",
   "mimetype": "text/x-python",
   "name": "python",
   "nbconvert_exporter": "python",
   "pygments_lexer": "ipython3",
   "version": "3.9.12"
  }
 },
 "nbformat": 4,
 "nbformat_minor": 5
}
