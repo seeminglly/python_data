{
 "cells": [
  {
   "cell_type": "code",
   "execution_count": 7,
   "id": "29813f2f-2853-4af3-89c9-89d5398c73af",
   "metadata": {},
   "outputs": [],
   "source": [
    "#seaborn pakage: 그래프를 만들 때 가장 많이 사용\n",
    "import seaborn"
   ]
  },
  {
   "cell_type": "code",
   "execution_count": 2,
   "id": "5def071a-0d8d-40ec-887f-0d4eef98a304",
   "metadata": {},
   "outputs": [
    {
     "data": {
      "text/plain": [
       "['a', 'b', 'c', 'd']"
      ]
     },
     "execution_count": 2,
     "metadata": {},
     "output_type": "execute_result"
    }
   ],
   "source": [
    "var = ['a','b','c','d']\n",
    "var"
   ]
  },
  {
   "cell_type": "code",
   "execution_count": 3,
   "id": "a8ece5ce-6e71-4875-b0e5-67fb9ce973c0",
   "metadata": {},
   "outputs": [
    {
     "data": {
      "text/plain": [
       "['a', 'b', 'c', 'd']"
      ]
     },
     "execution_count": 3,
     "metadata": {},
     "output_type": "execute_result"
    }
   ],
   "source": [
    "var"
   ]
  },
  {
   "cell_type": "code",
   "execution_count": 5,
   "id": "9f4f1bcc-13af-4498-aff9-3fae346541c3",
   "metadata": {},
   "outputs": [
    {
     "data": {
      "text/plain": [
       "<AxesSubplot:ylabel='count'>"
      ]
     },
     "execution_count": 5,
     "metadata": {},
     "output_type": "execute_result"
    },
    {
     "data": {
      "image/png": "[encoded data removed]",
      "text/plain": [
       "<Figure size 432x288 with 1 Axes>"
      ]
     },
     "metadata": {
      "needs_background": "light"
     },
     "output_type": "display_data"
    }
   ],
   "source": [
    "seaborn.countplot(x = var)\n",
    "#countplot: 막대그래프를 그릴 때\n",
    "# x축을 var의 값으로 구성"
   ]
  },
  {
   "cell_type": "code",
   "execution_count": 8,
   "id": "7a762747-eb19-4f86-98ad-855b18a74b9f",
   "metadata": {},
   "outputs": [],
   "source": [
    "import seaborn as sns #약어 사용"
   ]
  },
  {
   "cell_type": "code",
   "execution_count": 9,
   "id": "ab10ba29-439c-4eca-ae06-867792123f34",
   "metadata": {},
   "outputs": [],
   "source": [
    "var = ['a','a','b','c']"
   ]
  },
  {
   "cell_type": "code",
   "execution_count": 10,
   "id": "25622225-f277-41f9-ba6a-b309f845c35c",
   "metadata": {},
   "outputs": [
    {
     "data": {
      "text/plain": [
       "<AxesSubplot:ylabel='count'>"
      ]
     },
     "execution_count": 10,
     "metadata": {},
     "output_type": "execute_result"
    },
    {
     "data": {
      "image/png": "[encoded data removed]",
      "text/plain": [
       "<Figure size 432x288 with 1 Axes>"
      ]
     },
     "metadata": {
      "needs_background": "light"
     },
     "output_type": "display_data"
    }
   ],
   "source": [
    "sns.countplot(x = var)"
   ]
  },
  {
   "cell_type": "code",
   "execution_count": null,
   "id": "d8ed5ba2-1bb2-43c7-ba1c-dbc69af746d4",
   "metadata": {},
   "outputs": [],
   "source": []
  }
 ],
 "metadata": {
  "kernelspec": {
   "display_name": "Python 3 (ipykernel)",
   "language": "python",
   "name": "python3"
  },
  "language_info": {
   "codemirror_mode": {
    "name": "ipython",
    "version": 3
   },
   "file_extension": ".py",
   "mimetype": "text/x-python",
   "name": "python",
   "nbconvert_exporter": "python",
   "pygments_lexer": "ipython3",
   "version": "3.9.12"
  }
 },
 "nbformat": 4,
 "nbformat_minor": 5
}
